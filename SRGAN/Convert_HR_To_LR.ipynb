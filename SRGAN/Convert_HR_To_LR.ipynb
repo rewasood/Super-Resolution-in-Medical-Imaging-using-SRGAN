{
 "cells": [
  {
   "cell_type": "code",
   "execution_count": 2,
   "metadata": {
    "ExecuteTime": {
     "end_time": "2018-05-12T03:36:42.834807Z",
     "start_time": "2018-05-12T03:36:42.830245Z"
    }
   },
   "outputs": [
    {
     "name": "stdout",
     "output_type": "stream",
     "text": [
      "config.TRAIN.decay_every: 25\n"
     ]
    },
    {
     "name": "stderr",
     "output_type": "stream",
     "text": [
      "/home/shared/anaconda3/lib/python3.6/site-packages/h5py/__init__.py:36: FutureWarning: Conversion of the second argument of issubdtype from `float` to `np.floating` is deprecated. In future, it will be treated as `np.float64 == np.dtype(float).type`.\n",
      "  from ._conv import register_converters as _register_converters\n"
     ]
    }
   ],
   "source": [
    "import scipy\n",
    "from config import config, log_config\n",
    "import tensorlayer as tl\n",
    "from utils import *\n",
    "import os"
   ]
  },
  {
   "cell_type": "code",
   "execution_count": 5,
   "metadata": {
    "ExecuteTime": {
     "end_time": "2018-05-12T03:42:07.431978Z",
     "start_time": "2018-05-12T03:41:54.430508Z"
    },
    "scrolled": false
   },
   "outputs": [
    {
     "name": "stdout",
     "output_type": "stream",
     "text": [
      "Total valid HR image: 48\n",
      "Total HR image: 48\n",
      "input shape: (256, 256, 1)\n",
      "new height & width: 64 64\n",
      "input shape: (256, 256, 1)\n",
      "new height & width: 64 64\n",
      "input shape: (256, 256, 1)\n",
      "new height & width: 64 64\n",
      "input shape: (240, 240, 1)\n",
      "new height & width: 60 60\n",
      "input shape: (240, 240, 1)\n",
      "new height & width: 60 60\n",
      "input shape: (240, 240, 1)\n",
      "new height & width: 60 60\n",
      "input shape: (240, 240, 1)\n",
      "new height & width: 60 60\n"
     ]
    },
    {
     "name": "stderr",
     "output_type": "stream",
     "text": [
      "/home/shared/anaconda3/lib/python3.6/site-packages/ipykernel_launcher.py:24: DeprecationWarning: `imread` is deprecated!\n",
      "`imread` is deprecated in SciPy 1.0.0, and will be removed in 1.2.0.\n",
      "Use ``imageio.imread`` instead.\n",
      "/home/shared/anaconda3/lib/python3.6/site-packages/ipykernel_launcher.py:31: DeprecationWarning: `toimage` is deprecated!\n",
      "`toimage` is deprecated in SciPy 1.0.0, and will be removed in 1.2.0.\n",
      "Use Pillow's ``Image.fromarray`` directly instead.\n"
     ]
    },
    {
     "name": "stdout",
     "output_type": "stream",
     "text": [
      "input shape: (240, 240, 1)\n",
      "new height & width: 60 60\n",
      "input shape: (256, 256, 1)\n",
      "new height & width: 64 64\n",
      "input shape: (240, 240, 1)\n",
      "new height & width: 60 60\n",
      "input shape: (256, 256, 1)\n",
      "new height & width: 64 64\n",
      "input shape: (320, 320, 1)\n",
      "new height & width: 80 80\n",
      "input shape: (320, 320, 1)\n",
      "new height & width: 80 80\n",
      "input shape: (320, 320, 1)\n",
      "new height & width: 80 80\n",
      "input shape: (320, 320, 1)\n",
      "new height & width: 80 80\n",
      "input shape: (320, 320, 1)\n",
      "new height & width: 80 80\n",
      "input shape: (320, 320, 1)\n",
      "new height & width: 80 80\n",
      "input shape: (320, 320, 1)\n",
      "new height & width: 80 80\n",
      "input shape: (320, 320, 1)\n",
      "new height & width: 80 80\n",
      "input shape: (320, 320, 1)\n",
      "new height & width: 80 80\n",
      "input shape: (320, 320, 1)\n",
      "new height & width: 80 80\n",
      "input shape: (320, 320, 1)\n",
      "new height & width: 80 80\n",
      "input shape: (320, 320, 1)\n",
      "new height & width: 80 80\n",
      "input shape: (320, 320, 1)\n",
      "new height & width: 80 80\n",
      "input shape: (320, 320, 1)\n",
      "new height & width: 80 80\n",
      "input shape: (320, 320, 1)\n",
      "new height & width: 80 80\n",
      "input shape: (320, 320, 1)\n",
      "new height & width: 80 80\n",
      "input shape: (320, 320, 1)\n",
      "new height & width: 80 80\n",
      "input shape: (320, 320, 1)\n",
      "new height & width: 80 80\n",
      "input shape: (320, 320, 1)\n",
      "new height & width: 80 80\n",
      "input shape: (320, 320, 1)\n",
      "new height & width: 80 80\n",
      "input shape: (320, 320, 1)\n",
      "new height & width: 80 80\n",
      "input shape: (320, 320, 1)\n",
      "new height & width: 80 80\n",
      "input shape: (320, 320, 1)\n",
      "new height & width: 80 80\n",
      "input shape: (320, 320, 1)\n",
      "new height & width: 80 80\n",
      "input shape: (256, 256, 1)\n",
      "new height & width: 64 64\n",
      "input shape: (256, 256, 1)\n",
      "new height & width: 64 64\n",
      "input shape: (320, 320, 1)\n",
      "new height & width: 80 80\n",
      "input shape: (320, 320, 1)\n",
      "new height & width: 80 80\n",
      "input shape: (320, 320, 1)\n",
      "new height & width: 80 80\n",
      "input shape: (256, 256, 1)\n",
      "new height & width: 64 64\n",
      "input shape: (320, 320, 1)\n",
      "new height & width: 80 80\n",
      "input shape: (320, 320, 1)\n",
      "new height & width: 80 80\n",
      "input shape: (320, 320, 1)\n",
      "new height & width: 80 80\n",
      "input shape: (320, 320, 1)\n",
      "new height & width: 80 80\n",
      "input shape: (320, 320, 1)\n",
      "new height & width: 80 80\n",
      "input shape: (320, 320, 1)\n",
      "new height & width: 80 80\n",
      "input shape: (320, 320, 1)\n",
      "new height & width: 80 80\n",
      "End\n"
     ]
    }
   ],
   "source": [
    "def downsample_by_scale(x):\n",
    "    \n",
    "    print(\"input shape:\", x.shape)\n",
    "    \n",
    "    height = x.shape[0] // 4\n",
    "    width = x.shape[1] // 4\n",
    "    \n",
    "    print(\"new height & width:\", height, width)\n",
    "\n",
    "    #size = [height, weight]\n",
    "    #x = imresize(x, size=[56, 56], interp='bicubic', mode=None)\n",
    "    \n",
    "    x = imresize(x, size=[height, width], interp='bicubic', mode=None)\n",
    "    x = x / (255. / 2.)\n",
    "    x = x - 1.\n",
    "\n",
    "    return x\n",
    "\n",
    "def convertHR_To_LR(hr_img_path, lr_img_dest_path):\n",
    "    hr_img_list = sorted(tl.files.load_file_list(path=hr_img_path, regx='.*.png', printable=False))\n",
    "    print(\"Total HR image:\", len(hr_img_list))\n",
    "    \n",
    "    for img__ in hr_img_list:\n",
    "        image_loaded = scipy.misc.imread(os.path.join(hr_img_path, img__), mode='L')\n",
    "        image_loaded = image_loaded.reshape((image_loaded.shape[0], image_loaded.shape[1], 1))\n",
    "        \n",
    "        # Applying downscaling operation\n",
    "        image_loaded = downsample_by_scale(image_loaded) #downsample_fn(image_loaded)\n",
    "\n",
    "        # Saving LR image\n",
    "        scipy.misc.toimage(image_loaded[:, :, 0]).save(lr_img_dest_path + img__) # + '-verify.png') #, cmin=0, cmax=255).save(\"tmp.png\")\n",
    "\n",
    "    \n",
    "\n",
    "## Valid HR image path.\n",
    "\n",
    "valid_hr_img_list = sorted(tl.files.load_file_list(path=config.VALID.hr_img_path, regx='.*.png', printable=False))\n",
    "print(\"Total valid HR image:\", len(valid_hr_img_list))\n",
    "\n",
    "convertHR_To_LR(config.VALID.hr_img_path, config.VALID.lr_img_path)\n",
    "\n",
    "print(\"End\")"
   ]
  },
  {
   "cell_type": "code",
   "execution_count": null,
   "metadata": {},
   "outputs": [],
   "source": []
  }
 ],
 "metadata": {
  "kernelspec": {
   "display_name": "Python 3",
   "language": "python",
   "name": "python3"
  },
  "language_info": {
   "codemirror_mode": {
    "name": "ipython",
    "version": 3
   },
   "file_extension": ".py",
   "mimetype": "text/x-python",
   "name": "python",
   "nbconvert_exporter": "python",
   "pygments_lexer": "ipython3",
   "version": "3.6.4"
  }
 },
 "nbformat": 4,
 "nbformat_minor": 2
}
