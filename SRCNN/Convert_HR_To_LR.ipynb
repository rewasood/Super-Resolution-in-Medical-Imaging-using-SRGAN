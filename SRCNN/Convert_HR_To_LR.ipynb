{
 "cells": [
  {
   "cell_type": "code",
   "execution_count": 11,
   "metadata": {
    "ExecuteTime": {
     "end_time": "2018-05-16T04:45:38.515271Z",
     "start_time": "2018-05-16T04:45:38.509846Z"
    }
   },
   "outputs": [],
   "source": [
    "import scipy\n",
    "#from config import config, log_config\n",
    "import tensorlayer as tl\n",
    "from utils import *\n",
    "import os\n",
    "from tensorlayer.prepro import *"
   ]
  },
  {
   "cell_type": "code",
   "execution_count": 14,
   "metadata": {
    "ExecuteTime": {
     "end_time": "2018-05-16T04:46:21.459400Z",
     "start_time": "2018-05-16T04:46:21.336934Z"
    },
    "scrolled": false
   },
   "outputs": [
    {
     "name": "stdout",
     "output_type": "stream",
     "text": [
      "('Total test HR image:', 2)\n",
      "('Total HR image:', 2)\n",
      "('input shape:', (256, 256, 1))\n",
      "('new height & width:', 64, 64)\n",
      "('input shape:', (64, 64, 1))\n",
      "('new height & width:', 256, 256)\n",
      "('input shape:', (56, 56, 1))\n",
      "('new height & width:', 14, 14)\n",
      "('input shape:', (14, 14, 1))\n",
      "('new height & width:', 56, 56)\n",
      "End\n"
     ]
    },
    {
     "name": "stderr",
     "output_type": "stream",
     "text": [
      "/Users/btopiwala/miniconda2/envs/cs231N/lib/python2.7/site-packages/ipykernel_launcher.py:42: DeprecationWarning: `imread` is deprecated!\n",
      "`imread` is deprecated in SciPy 1.0.0, and will be removed in 1.2.0.\n",
      "Use ``imageio.imread`` instead.\n",
      "/Users/btopiwala/miniconda2/envs/cs231N/lib/python2.7/site-packages/ipykernel_launcher.py:52: DeprecationWarning: `toimage` is deprecated!\n",
      "`toimage` is deprecated in SciPy 1.0.0, and will be removed in 1.2.0.\n",
      "Use Pillow's ``Image.fromarray`` directly instead.\n"
     ]
    }
   ],
   "source": [
    "def downsample_by_scale(x):\n",
    "    \n",
    "    print(\"input shape:\", x.shape)\n",
    "    \n",
    "    height = x.shape[0] // 4\n",
    "    width = x.shape[1] // 4\n",
    "    \n",
    "    print(\"new height & width:\", height, width)\n",
    "\n",
    "    #size = [height, weight]\n",
    "    #x = imresize(x, size=[56, 56], interp='bicubic', mode=None)\n",
    "    \n",
    "    x = imresize(x, size=[height, width], interp='bicubic', mode=None)\n",
    "    x = x / (255. / 2.)\n",
    "    x = x - 1.\n",
    "\n",
    "    return x\n",
    "\n",
    "def upsample_by_scale(x):\n",
    "    \n",
    "    print(\"input shape:\", x.shape)\n",
    "    \n",
    "    height = x.shape[0] * 4\n",
    "    width = x.shape[1] * 4\n",
    "    \n",
    "    print(\"new height & width:\", height, width)\n",
    "\n",
    "    #size = [height, weight]\n",
    "    #x = imresize(x, size=[56, 56], interp='bicubic', mode=None)\n",
    "    \n",
    "    x = imresize(x, size=[height, width], interp='bicubic', mode=None)\n",
    "    x = x / (255. / 2.)\n",
    "    x = x - 1.\n",
    "\n",
    "    return x\n",
    "\n",
    "def convertHR_To_LR(hr_img_path, lr_img_dest_path):\n",
    "    hr_img_list = sorted(tl.files.load_file_list(path=hr_img_path, regx='.*.png', printable=False))\n",
    "    print(\"Total HR image:\", len(hr_img_list))\n",
    "    \n",
    "    for img__ in hr_img_list:\n",
    "        image_loaded = scipy.misc.imread(os.path.join(hr_img_path, img__), mode='L')\n",
    "        image_loaded = image_loaded.reshape((image_loaded.shape[0], image_loaded.shape[1], 1))\n",
    "        \n",
    "        # Applying downscaling operation\n",
    "        image_loaded = downsample_by_scale(image_loaded) #downsample_fn(image_loaded)\n",
    "\n",
    "        # Applying upscaling operation\n",
    "        image_loaded = upsample_by_scale(image_loaded)\n",
    "        \n",
    "        # Saving LR image\n",
    "        scipy.misc.toimage(image_loaded[:, :, 0]).save(lr_img_dest_path + img__) # + '-verify.png') #, cmin=0, cmax=255).save(\"tmp.png\")\n",
    "\n",
    "    \n",
    "\n",
    "## Valid HR image path.\n",
    "\n",
    "test_hr_path = \"/Users/btopiwala/Downloads/CS231N/2018/gitlab/CS231N/Project/TensorFlow-SRCNN/TensorFlow-SRCNN-master/Test/\"\n",
    "test_lr_path = \"/Users/btopiwala/Downloads/CS231N/2018/gitlab/CS231N/Project/TensorFlow-SRCNN/TensorFlow-SRCNN-master/Test_LR/\"\n",
    "\n",
    "test_hr_img_list = sorted(tl.files.load_file_list(path=test_hr_path, regx='.*.png', printable=False))\n",
    "print(\"Total test HR image:\", len(test_hr_img_list))\n",
    "\n",
    "convertHR_To_LR(test_hr_path, test_lr_path)\n",
    "\n",
    "print(\"End\")"
   ]
  },
  {
   "cell_type": "code",
   "execution_count": null,
   "metadata": {
    "ExecuteTime": {
     "start_time": "2018-05-19T16:35:51.258Z"
    }
   },
   "outputs": [],
   "source": [
    "import tensorflow as tf\n",
    "summary_pb = tf.summary.Summary()\n",
    "str_ = \"\\n$\\n\\x1dDisciminator_logits_real_loss\\x15\\x14\\x12\\xff?\\n$\\n\\x1dDisciminator_logits_fake_loss\\x15\\xb9h1?\\n\\x1e\\n\\x17Disciminator_total_loss\\x158\\xe3+@\"\n",
    "aa = summary_pb.ParseFromString(str_)\n",
    "print(aa)\n",
    "\n",
    "ss = tf.core.framework.summary_pb2.Summary()\n",
    "\n",
    "summary_discriminator_writer.add_summary(tf.Summary(value=[tf.Summary.Value(tag=\"Disciminator_logits_real_loss\", simple_value=d_loss1_summary_per_batch),]), (epoch))"
   ]
  },
  {
   "cell_type": "code",
   "execution_count": null,
   "metadata": {},
   "outputs": [],
   "source": []
  }
 ],
 "metadata": {
  "kernelspec": {
   "display_name": "Python 2",
   "language": "python",
   "name": "python2"
  },
  "language_info": {
   "codemirror_mode": {
    "name": "ipython",
    "version": 2
   },
   "file_extension": ".py",
   "mimetype": "text/x-python",
   "name": "python",
   "nbconvert_exporter": "python",
   "pygments_lexer": "ipython2",
   "version": "2.7.14"
  }
 },
 "nbformat": 4,
 "nbformat_minor": 2
}
